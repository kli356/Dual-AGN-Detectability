{
 "cells": [
  {
   "cell_type": "code",
   "execution_count": 2,
   "metadata": {
    "collapsed": true
   },
   "outputs": [],
   "source": [
    "import numpy as np\n",
    "import matplotlib.pyplot as plt\n",
    "import math\n",
    "from pylab import *\n",
    "import matplotlib as mpl\n",
    "from matplotlib import *\n",
    "from scipy import *\n",
    "import StringIO \n",
    "from matplotlib import rc\n",
    "import os "
   ]
  },
  {
   "cell_type": "code",
   "execution_count": 3,
   "metadata": {
    "collapsed": false
   },
   "outputs": [],
   "source": [
    "rc('font',size=35)\n",
    "rc('xtick',top=True)\n",
    "rc('xtick',direction= 'in')\n",
    "rc('xtick',color=\"white\")\n",
    "\n",
    "rc('ytick',right= True)\n",
    "rc('ytick',direction= 'in')\n",
    "rc('ytick',color=\"white\")\n",
    "norm = mpl.colors.Normalize(vmin=0, vmax=0.15)"
   ]
  },
  {
   "cell_type": "code",
   "execution_count": 4,
   "metadata": {
    "collapsed": true
   },
   "outputs": [],
   "source": [
    "d123=[ 0.05, 0.1, 0.2, 0.3, 0.4, 0.5, 0.6, 0.7, 0.8,0.9]\n",
    "l123=[-3.0, -2.0, -1.5, -1.0, -0.5, 0.0, 0.5, 1.0, 2.0, 3.0]\n",
    "e123=[0.1, 0.2, 0.3, 0.4, 0.5, 0.6, 0.7, 0.8, 0.9, 1.0]"
   ]
  },
  {
   "cell_type": "markdown",
   "metadata": {},
   "source": [
    "# Data file name has the format of : \"dl_orbit. a, b, c, d, e.txt\"\n",
    "\n",
    "### orbit= l2, lr2, h2, hr2 for prograde+low e_0, retrograde+low e_0, prograde+high e_0, retrograde+high e_0\n",
    "### a= 0, 1, 2 for v_g= 0.2, 0.5, 0.8 v_c\n",
    "### b= 0, 1, 2 for f_dg= 0.3, 0.5, 0.9\n",
    "### c= 0, 1, 2 for M_bin= 3E+6, 1.0E+7, 1.0E+8 M_sun\n",
    "### d= 0, 1, 2 for n_gd0= 100, 200, 300 /cm^3\n",
    "### e= 0, 1, 2 for q= 1/4, 1/8, 1/10 "
   ]
  },
  {
   "cell_type": "markdown",
   "metadata": {},
   "source": [
    "## Read in data files of all prograde+low e_0 moels with v_g=0.5*v_c, M_bin=1E+7 M_sun, and q=1/10:\n"
   ]
  },
  {
   "cell_type": "code",
   "execution_count": null,
   "metadata": {
    "collapsed": true
   },
   "outputs": [],
   "source": [
    "\n",
    "prob_dl=[]\n",
    "prob_de=[]\n",
    "prob_le=[]\n",
    "x_tot=np.array(np.zeros(100))\n",
    "y_tot=np.array(np.zeros(100))\n",
    "temp_tot=np.array(np.zeros(100))\n",
    "\n",
    "for i in range(3):\n",
    "    for j in range(3):\n",
    "        filen=\"dl_l2.1.{0}.1.{1}.2.txt\".format(i,j)\n",
    "        if os.path.exists(filen):\n",
    "            f = open(filen,\"r\")\n",
    "            data = f.readlines()\n",
    "            for line in data:\n",
    "                if line.startswith('#'):\n",
    "                    continue\n",
    "                fields=line.split()\n",
    "                prob_dl.append(float(fields[2]))\n",
    "            f.close()\n",
    "            x,y,temp = np.loadtxt(filen).T\n",
    "            x=np.array(x)\n",
    "            y=np.array(y)\n",
    "            temp=np.array(temp)\n",
    "            x_tot=x_tot+x\n",
    "            y_tot=y_tot+y\n",
    "            temp_tot=temp_tot+temp\n",
    "        else: \n",
    "            pass\n",
    "total_dl=sum(prob_dl)\n",
    "nrows, ncols = 10, 10\n",
    "grid1 = (temp_tot/total_dl).reshape((nrows, ncols))\n",
    "gridt1=grid1.transpose()\n"
   ]
  },
  {
   "cell_type": "markdown",
   "metadata": {},
   "source": [
    "## Read in data files of all prograde+high e_0 moels with v_g=0.5*v_c, M_bin=1E+7 M_sun, and q=1/10:\n"
   ]
  },
  {
   "cell_type": "code",
   "execution_count": null,
   "metadata": {
    "collapsed": true
   },
   "outputs": [],
   "source": [
    "\n",
    "prob_dl=[]\n",
    "prob_de=[]\n",
    "prob_le=[]\n",
    "x_tot=np.array(np.zeros(100))\n",
    "y_tot=np.array(np.zeros(100))\n",
    "temp_tot=np.array(np.zeros(100))\n",
    "\n",
    "for i in range(3):\n",
    "    for j in range(3):\n",
    "        filen=\"dl_h2.1.{0}.1.{1}.2.txt\".format(i,j)\n",
    "        if os.path.exists(filen):\n",
    "            f = open(filen,\"r\")\n",
    "            data = f.readlines()\n",
    "            for line in data:\n",
    "                if line.startswith('#'):\n",
    "                    continue\n",
    "                fields=line.split()\n",
    "                prob_dl.append(float(fields[2]))\n",
    "            f.close()\n",
    "            x,y,temp = np.loadtxt(filen).T\n",
    "            x=np.array(x)\n",
    "            y=np.array(y)\n",
    "            temp=np.array(temp)\n",
    "            x_tot=x_tot+x\n",
    "            y_tot=y_tot+y\n",
    "            temp_tot=temp_tot+temp\n",
    "        else: \n",
    "            pass\n",
    "total_dl=sum(prob_dl)\n",
    "nrows, ncols = 10, 10\n",
    "grid2 = (temp_tot/total_dl).reshape((nrows, ncols))\n",
    "gridt2=grid2.transpose()\n"
   ]
  },
  {
   "cell_type": "markdown",
   "metadata": {},
   "source": [
    "## Plot the 2D detectability plot of all prograde models with v_g=0.5*v_c, M_bin=1E+7 M_sun, and q=1/10:\n"
   ]
  },
  {
   "cell_type": "code",
   "execution_count": null,
   "metadata": {
    "collapsed": true
   },
   "outputs": [],
   "source": [
    "plt.figure(figsize=[15, 10])\n",
    "sp1=plt.imshow(gridt2+gridt1, origin=\"lower\", extent=((x_tot/9.0).min(), (x_tot/9.0).max(),(y_tot/9.0).min(), (y_tot/9.0).max()), aspect=0.13,\n",
    "          interpolation='nearest', cmap=\"plasma\",norm=norm)\n",
    "plt.ylabel(r\"$L_2/L_1$\")\n",
    "plt.xlabel(r\"d (kpc)\")\n",
    "plt.yticks([-3.0, -2.0,  -1.0,  0.0, 1.0, 2.0, 3.0], [r\"$10^{-3}$\", r\"$10^{-2}$\",r\"$10^{-1}$\", \"1\",r\"$10^{1}$\", r\"$10^{2}$\", r\"$10^{3}$\"],color=\"black\")\n",
    "#plt.yticks([-3.0, -2.0, -1.5, -1.0, -0.5, 0.0, 0.5, 1.0, 2.0, 3.0], [r\"$10^{-3}$\", r\"$10^{-2}$\",\"\",r\"$10^{-1}$\", \"\", \"1\", \"\",r\"$10^{1}$\", r\"$10^{2}$\", r\"$10^{3}$\"],color=\"black\")\n",
    "plt.xticks([0.1, 0.2, 0.3, 0.4, 0.5, 0.6, 0.7,0.8,0.9],[\"0.1\",\"\", \"0.3\",\"\", \"0.5\", \"\", \"0.7\",\"\",\"0.9\"],color=\"black\")\n",
    "plt.tick_params(which='both', width=3)\n",
    "plt.tick_params(which='major', length=8)\n",
    "textstr = \"prograde\"\n",
    "props = dict(boxstyle='round', facecolor='#e6daa6', alpha=0.5)\n",
    "\n",
    "plt.text(0.1, 2.8, textstr, fontsize=40, color=\"white\",\n",
    "        verticalalignment='top', bbox=props)\n",
    "clb1=plt.colorbar(sp1)\n",
    "clb1.set_label(r'$f_{\\rm t} ({\\rm d}, {\\rm L_2/L_1})$')\n",
    "plt.setp(plt.getp(clb1.ax.axes, 'yticklabels'), color=\"black\")\n",
    "plt.show()\n"
   ]
  },
  {
   "cell_type": "markdown",
   "metadata": {},
   "source": [
    "## Read in data files of all retrograde+low e_0 moels with v_g=0.5*v_c, M_bin=1E+7 M_sun, and q=1/10:\n"
   ]
  },
  {
   "cell_type": "code",
   "execution_count": null,
   "metadata": {
    "collapsed": true
   },
   "outputs": [],
   "source": [
    "\n",
    "prob_dl=[]\n",
    "prob_de=[]\n",
    "prob_le=[]\n",
    "x_tot=np.array(np.zeros(100))\n",
    "y_tot=np.array(np.zeros(100))\n",
    "temp_tot=np.array(np.zeros(100))\n",
    "\n",
    "for i in range(3):\n",
    "    for j in range(3):\n",
    "        filen=\"dl_lr2.1.{0}.1.{1}.2.txt\".format(i,j)\n",
    "        if os.path.exists(filen):\n",
    "            f = open(filen,\"r\")\n",
    "            data = f.readlines()\n",
    "            for line in data:\n",
    "                if line.startswith('#'):\n",
    "                    continue\n",
    "                fields=line.split()\n",
    "                prob_dl.append(float(fields[2]))\n",
    "            f.close()\n",
    "            x,y,temp = np.loadtxt(filen).T\n",
    "            x=np.array(x)\n",
    "            y=np.array(y)\n",
    "            temp=np.array(temp)\n",
    "            x_tot=x_tot+x\n",
    "            y_tot=y_tot+y\n",
    "            temp_tot=temp_tot+temp\n",
    "        else: \n",
    "            pass\n",
    "total_dl=sum(prob_dl)\n",
    "nrows, ncols = 10, 10\n",
    "grid3 = (temp_tot/total_dl).reshape((nrows, ncols))\n",
    "gridt3=grid3.transpose()\n"
   ]
  },
  {
   "cell_type": "markdown",
   "metadata": {},
   "source": [
    "## Read in data files of all retrograde+high e_0 moels with v_g=0.5*v_c, M_bin=1E+7 M_sun, and q=1/10:\n"
   ]
  },
  {
   "cell_type": "code",
   "execution_count": null,
   "metadata": {
    "collapsed": true
   },
   "outputs": [],
   "source": [
    "\n",
    "prob_dl=[]\n",
    "prob_de=[]\n",
    "prob_le=[]\n",
    "x_tot=np.array(np.zeros(100))\n",
    "y_tot=np.array(np.zeros(100))\n",
    "temp_tot=np.array(np.zeros(100))\n",
    "\n",
    "for i in range(3):\n",
    "    for j in range(3):\n",
    "        filen=\"dl_hr2.1.{0}.1.{1}.2.txt\".format(i,j)\n",
    "        if os.path.exists(filen):\n",
    "            f = open(filen,\"r\")\n",
    "            data = f.readlines()\n",
    "            for line in data:\n",
    "                if line.startswith('#'):\n",
    "                    continue\n",
    "                fields=line.split()\n",
    "                prob_dl.append(float(fields[2]))\n",
    "            f.close()\n",
    "            x,y,temp = np.loadtxt(filen).T\n",
    "            x=np.array(x)\n",
    "            y=np.array(y)\n",
    "            temp=np.array(temp)\n",
    "            x_tot=x_tot+x\n",
    "            y_tot=y_tot+y\n",
    "            temp_tot=temp_tot+temp\n",
    "        else: \n",
    "            pass\n",
    "total_dl=sum(prob_dl)\n",
    "nrows, ncols = 10, 10\n",
    "grid4 = (temp_tot/total_dl).reshape((nrows, ncols))\n",
    "gridt4=grid4.transpose()\n"
   ]
  },
  {
   "cell_type": "markdown",
   "metadata": {},
   "source": [
    "## Plot the 2D detectability plot of all retrograde models with v_g=0.5*v_c, M_bin=1E+7 M_sun, and q=1/10:"
   ]
  },
  {
   "cell_type": "code",
   "execution_count": null,
   "metadata": {
    "collapsed": true
   },
   "outputs": [],
   "source": [
    "plt.figure(figsize=[15, 10])\n",
    "sp1=plt.imshow(gridt3+gridt4, origin=\"lower\", extent=((x_tot/9.0).min(), (x_tot/9.0).max(),(y_tot/9.0).min(), (y_tot/9.0).max()), aspect=0.13,\n",
    "          interpolation='nearest', cmap=\"plasma\",norm=norm)\n",
    "plt.ylabel(r\"$L_2/L_1$\")\n",
    "plt.xlabel(r\"d (kpc)\")\n",
    "plt.yticks([-3.0, -2.0,  -1.0,  0.0, 1.0, 2.0, 3.0], [r\"$10^{-3}$\", r\"$10^{-2}$\",r\"$10^{-1}$\", \"1\",r\"$10^{1}$\", r\"$10^{2}$\", r\"$10^{3}$\"],color=\"black\")\n",
    "#plt.yticks([-3.0, -2.0, -1.5, -1.0, -0.5, 0.0, 0.5, 1.0, 2.0, 3.0], [r\"$10^{-3}$\", r\"$10^{-2}$\",\"\",r\"$10^{-1}$\", \"\", \"1\", \"\",r\"$10^{1}$\", r\"$10^{2}$\", r\"$10^{3}$\"],color=\"black\")\n",
    "plt.xticks([0.1, 0.2, 0.3, 0.4, 0.5, 0.6, 0.7,0.8,0.9],[\"0.1\",\"\", \"0.3\",\"\", \"0.5\", \"\", \"0.7\",\"\",\"0.9\"],color=\"black\")\n",
    "plt.tick_params(which='both', width=3)\n",
    "plt.tick_params(which='major', length=8)\n",
    "textstr = \"retrograde\"\n",
    "props = dict(boxstyle='round', facecolor='#e6daa6', alpha=0.5)\n",
    "\n",
    "plt.text(0.1, 2.8, textstr, fontsize=40, color=\"white\",\n",
    "        verticalalignment='top', bbox=props)\n",
    "clb1=plt.colorbar(sp1)\n",
    "clb1.set_label(r'$f_{\\rm t} ({\\rm d}, {\\rm L_2/L_1})$')\n",
    "plt.setp(plt.getp(clb1.ax.axes, 'yticklabels'), color=\"black\")\n",
    "plt.show()"
   ]
  },
  {
   "cell_type": "markdown",
   "metadata": {},
   "source": [
    "## Read in data files of all prograde+low e_0 moels with v_g=0.8*v_c, M_bin=1E+8 M_sun, and q=1/4:"
   ]
  },
  {
   "cell_type": "code",
   "execution_count": null,
   "metadata": {
    "collapsed": true
   },
   "outputs": [],
   "source": [
    "\n",
    "prob_dl=[]\n",
    "prob_de=[]\n",
    "prob_le=[]\n",
    "x_tot=np.array(np.zeros(100))\n",
    "y_tot=np.array(np.zeros(100))\n",
    "temp_tot=np.array(np.zeros(100))\n",
    "\n",
    "for i in range(3):\n",
    "    for j in range(3):\n",
    "        filen=\"dl_l2.2.{0}.2.{1}.0.txt\".format(i,j)\n",
    "        if os.path.exists(filen):\n",
    "            f = open(filen,\"r\")\n",
    "            data = f.readlines()\n",
    "            for line in data:\n",
    "                if line.startswith('#'):\n",
    "                    continue\n",
    "                fields=line.split()\n",
    "                prob_dl.append(float(fields[2]))\n",
    "            f.close()\n",
    "            x,y,temp = np.loadtxt(filen).T\n",
    "            x=np.array(x)\n",
    "            y=np.array(y)\n",
    "            temp=np.array(temp)\n",
    "            x_tot=x_tot+x\n",
    "            y_tot=y_tot+y\n",
    "            temp_tot=temp_tot+temp\n",
    "        else: \n",
    "            pass\n",
    "total_dl=sum(prob_dl)\n",
    "nrows, ncols = 10, 10\n",
    "grid1b = (temp_tot/total_dl).reshape((nrows, ncols))\n",
    "gridt1b=grid1b.transpose()\n"
   ]
  },
  {
   "cell_type": "markdown",
   "metadata": {},
   "source": [
    "## Read in data files of all prograde+high e_0 moels with v_g=0.8*v_c, M_bin=1E+8 M_sun, and q=1/4:"
   ]
  },
  {
   "cell_type": "code",
   "execution_count": null,
   "metadata": {
    "collapsed": true
   },
   "outputs": [],
   "source": [
    "\n",
    "prob_dl=[]\n",
    "prob_de=[]\n",
    "prob_le=[]\n",
    "x_tot=np.array(np.zeros(100))\n",
    "y_tot=np.array(np.zeros(100))\n",
    "temp_tot=np.array(np.zeros(100))\n",
    "\n",
    "for i in range(3):\n",
    "    for j in range(3):\n",
    "        filen=\"dl_h2.2.{0}.2.{1}.0.txt\".format(i,j)\n",
    "        if os.path.exists(filen):\n",
    "            f = open(filen,\"r\")\n",
    "            data = f.readlines()\n",
    "            for line in data:\n",
    "                if line.startswith('#'):\n",
    "                    continue\n",
    "                fields=line.split()\n",
    "                prob_dl.append(float(fields[2]))\n",
    "            f.close()\n",
    "            x,y,temp = np.loadtxt(filen).T\n",
    "            x=np.array(x)\n",
    "            y=np.array(y)\n",
    "            temp=np.array(temp)\n",
    "            x_tot=x_tot+x\n",
    "            y_tot=y_tot+y\n",
    "            temp_tot=temp_tot+temp\n",
    "        else: \n",
    "            pass\n",
    "total_dl=sum(prob_dl)\n",
    "nrows, ncols = 10, 10\n",
    "grid2b = (temp_tot/total_dl).reshape((nrows, ncols))\n",
    "gridt2b=grid2b.transpose()\n"
   ]
  },
  {
   "cell_type": "markdown",
   "metadata": {},
   "source": [
    "## Plot the 2D detectability plot of all prograde models with v_g=0.8*v_c, M_bin=1E+8 M_sun, and q=1/4:"
   ]
  },
  {
   "cell_type": "code",
   "execution_count": null,
   "metadata": {
    "collapsed": true
   },
   "outputs": [],
   "source": [
    "plt.figure(figsize=[15, 10])\n",
    "sp1=plt.imshow(gridt2b+gridt1b, origin=\"lower\", extent=((x_tot/9.0).min(), (x_tot/9.0).max(),(y_tot/9.0).min(), (y_tot/9.0).max()), aspect=0.13,\n",
    "          interpolation='nearest', cmap=\"plasma\",norm=norm)\n",
    "plt.ylabel(r\"$L_2/L_1$\")\n",
    "plt.xlabel(r\"d (kpc)\")\n",
    "plt.yticks([-3.0, -2.0,  -1.0,  0.0, 1.0, 2.0, 3.0], [r\"$10^{-3}$\", r\"$10^{-2}$\",r\"$10^{-1}$\", \"1\",r\"$10^{1}$\", r\"$10^{2}$\", r\"$10^{3}$\"],color=\"black\")\n",
    "#plt.yticks([-3.0, -2.0, -1.5, -1.0, -0.5, 0.0, 0.5, 1.0, 2.0, 3.0], [r\"$10^{-3}$\", r\"$10^{-2}$\",\"\",r\"$10^{-1}$\", \"\", \"1\", \"\",r\"$10^{1}$\", r\"$10^{2}$\", r\"$10^{3}$\"],color=\"black\")\n",
    "plt.xticks([0.1, 0.2, 0.3, 0.4, 0.5, 0.6, 0.7,0.8,0.9],[\"0.1\",\"\", \"0.3\",\"\", \"0.5\", \"\", \"0.7\",\"\",\"0.9\"],color=\"black\")\n",
    "plt.tick_params(which='both', width=3)\n",
    "plt.tick_params(which='major', length=8)\n",
    "textstr = \"prograde\"\n",
    "props = dict(boxstyle='round', facecolor='#e6daa6', alpha=0.5)\n",
    "\n",
    "plt.text(0.1, 2.8, textstr, fontsize=40, color=\"white\",\n",
    "        verticalalignment='top', bbox=props)\n",
    "clb1=plt.colorbar(sp1)\n",
    "clb1.set_label(r'$f_{\\rm t} ({\\rm d}, {\\rm L_2/L_1})$')\n",
    "plt.setp(plt.getp(clb1.ax.axes, 'yticklabels'), color=\"black\")\n",
    "plt.show()\n"
   ]
  },
  {
   "cell_type": "markdown",
   "metadata": {},
   "source": [
    "## Read in data files of all retrograde+low e_0 moels with v_g=0.8*v_c, M_bin=1E+8 M_sun, and q=1/4:"
   ]
  },
  {
   "cell_type": "code",
   "execution_count": null,
   "metadata": {
    "collapsed": true
   },
   "outputs": [],
   "source": [
    "\n",
    "prob_dl=[]\n",
    "prob_de=[]\n",
    "prob_le=[]\n",
    "x_tot=np.array(np.zeros(100))\n",
    "y_tot=np.array(np.zeros(100))\n",
    "temp_tot=np.array(np.zeros(100))\n",
    "\n",
    "for i in range(3):\n",
    "    for j in range(3):\n",
    "        filen=\"dl_lr2.2.{0}.2.{1}.0.txt\".format(i,j)\n",
    "        if os.path.exists(filen):\n",
    "            f = open(filen,\"r\")\n",
    "            data = f.readlines()\n",
    "            for line in data:\n",
    "                if line.startswith('#'):\n",
    "                    continue\n",
    "                fields=line.split()\n",
    "                prob_dl.append(float(fields[2]))\n",
    "            f.close()\n",
    "            x,y,temp = np.loadtxt(filen).T\n",
    "            x=np.array(x)\n",
    "            y=np.array(y)\n",
    "            temp=np.array(temp)\n",
    "            x_tot=x_tot+x\n",
    "            y_tot=y_tot+y\n",
    "            temp_tot=temp_tot+temp\n",
    "        else: \n",
    "            pass\n",
    "total_dl=sum(prob_dl)\n",
    "nrows, ncols = 10, 10\n",
    "grid3b = (temp_tot/total_dl).reshape((nrows, ncols))\n",
    "gridt3b=grid3b.transpose()\n"
   ]
  },
  {
   "cell_type": "markdown",
   "metadata": {},
   "source": [
    "## Read in data files of all retrograde+high e_0 moels with v_g=0.8*v_c, M_bin=1E+8 M_sun, and q=1/4:"
   ]
  },
  {
   "cell_type": "code",
   "execution_count": null,
   "metadata": {
    "collapsed": true
   },
   "outputs": [],
   "source": [
    "\n",
    "prob_dl=[]\n",
    "prob_de=[]\n",
    "prob_le=[]\n",
    "x_tot=np.array(np.zeros(100))\n",
    "y_tot=np.array(np.zeros(100))\n",
    "temp_tot=np.array(np.zeros(100))\n",
    "\n",
    "for i in range(3):\n",
    "    for j in range(3):\n",
    "        filen=\"dl_hr2.2.{0}.2.{1}.0.txt\".format(i,j)\n",
    "        if os.path.exists(filen):\n",
    "            f = open(filen,\"r\")\n",
    "            data = f.readlines()\n",
    "            for line in data:\n",
    "                if line.startswith('#'):\n",
    "                    continue\n",
    "                fields=line.split()\n",
    "                prob_dl.append(float(fields[2]))\n",
    "            f.close()\n",
    "            x,y,temp = np.loadtxt(filen).T\n",
    "            x=np.array(x)\n",
    "            y=np.array(y)\n",
    "            temp=np.array(temp)\n",
    "            x_tot=x_tot+x\n",
    "            y_tot=y_tot+y\n",
    "            temp_tot=temp_tot+temp\n",
    "        else: \n",
    "            pass\n",
    "total_dl=sum(prob_dl)\n",
    "nrows, ncols = 10, 10\n",
    "grid4b = (temp_tot/total_dl).reshape((nrows, ncols))\n",
    "gridt4b=grid4b.transpose()\n"
   ]
  },
  {
   "cell_type": "markdown",
   "metadata": {},
   "source": [
    "## Plot the 2D detectability plot of all retrograde models with v_g=0.8*v_c, M_bin=1E+8 M_sun, and q=1/4:"
   ]
  },
  {
   "cell_type": "code",
   "execution_count": null,
   "metadata": {
    "collapsed": true
   },
   "outputs": [],
   "source": [
    "plt.figure(figsize=[15, 10])\n",
    "sp1=plt.imshow(gridt3b+gridt4b, origin=\"lower\", extent=((x_tot/9.0).min(), (x_tot/9.0).max(),(y_tot/9.0).min(), (y_tot/9.0).max()), aspect=0.13,\n",
    "          interpolation='nearest', cmap=\"plasma\",norm=norm)\n",
    "plt.ylabel(r\"$L_2/L_1$\")\n",
    "plt.xlabel(r\"d (kpc)\")\n",
    "plt.yticks([-3.0, -2.0,  -1.0,  0.0, 1.0, 2.0, 3.0], [r\"$10^{-3}$\", r\"$10^{-2}$\",r\"$10^{-1}$\", \"1\",r\"$10^{1}$\", r\"$10^{2}$\", r\"$10^{3}$\"],color=\"black\")\n",
    "#plt.yticks([-3.0, -2.0, -1.5, -1.0, -0.5, 0.0, 0.5, 1.0, 2.0, 3.0], [r\"$10^{-3}$\", r\"$10^{-2}$\",\"\",r\"$10^{-1}$\", \"\", \"1\", \"\",r\"$10^{1}$\", r\"$10^{2}$\", r\"$10^{3}$\"],color=\"black\")\n",
    "plt.xticks([0.1, 0.2, 0.3, 0.4, 0.5, 0.6, 0.7,0.8,0.9],[\"0.1\",\"\", \"0.3\",\"\", \"0.5\", \"\", \"0.7\",\"\",\"0.9\"],color=\"black\")\n",
    "plt.tick_params(which='both', width=3)\n",
    "plt.tick_params(which='major', length=8)\n",
    "textstr = \"retrograde\"\n",
    "props = dict(boxstyle='round', facecolor='#e6daa6', alpha=0.5)\n",
    "\n",
    "plt.text(0.1, 2.8, textstr, fontsize=40, color=\"white\",\n",
    "        verticalalignment='top', bbox=props)\n",
    "clb1=plt.colorbar(sp1)\n",
    "clb1.set_label(r'$f_{\\rm t} ({\\rm d}, {\\rm L_2/L_1})$')\n",
    "plt.setp(plt.getp(clb1.ax.axes, 'yticklabels'), color=\"black\")\n",
    "plt.show()"
   ]
  }
 ],
 "metadata": {
  "kernelspec": {
   "display_name": "Python 2",
   "language": "python",
   "name": "python2"
  },
  "language_info": {
   "codemirror_mode": {
    "name": "ipython",
    "version": 2
   },
   "file_extension": ".py",
   "mimetype": "text/x-python",
   "name": "python",
   "nbconvert_exporter": "python",
   "pygments_lexer": "ipython2",
   "version": "2.7.13"
  }
 },
 "nbformat": 4,
 "nbformat_minor": 2
}
